{
 "cells": [
  {
   "cell_type": "markdown",
   "id": "7fb7f891",
   "metadata": {},
   "source": [
    "# Enhancing Predictive Efficiency of Time Series Models in Stock Price Prediction\n",
    "\n",
    "Self Project | May 2023 - Jul 2023\n",
    "\n",
    "This notebook reproduces the pipeline: ARIMA/SARIMA forecasts, directional metric, feature engineering (RSI, ADX), systematic time-based dataset segregation, and Naive Bayes for direction prediction.\n",
    "\n",
    "**Note:** Run this notebook in an environment with internet access to download price data, and install the required packages if missing."
   ]
  },
  {
   "cell_type": "code",
   "execution_count": null,
   "id": "710acd0b",
   "metadata": {},
   "outputs": [],
   "source": [
    "!pip install yfinance pandas numpy scipy scikit-learn statsmodels ta matplotlib seaborn joblib --quiet"
   ]
  },
  {
   "cell_type": "code",
   "execution_count": null,
   "id": "56bfec8f",
   "metadata": {},
   "outputs": [],
   "source": [
    "import warnings\n",
    "warnings.filterwarnings('ignore')\n",
    "\n",
    "import pandas as pd\n",
    "import numpy as np\n",
    "import yfinance as yf\n",
    "import matplotlib.pyplot as plt\n",
    "import seaborn as sns\n",
    "from statsmodels.tsa.arima.model import ARIMA\n",
    "from statsmodels.tsa.statespace.sarimax import SARIMAX\n",
    "from sklearn.naive_bayes import GaussianNB\n",
    "from sklearn.metrics import accuracy_score, classification_report\n",
    "from sklearn.preprocessing import StandardScaler\n",
    "from sklearn.pipeline import Pipeline\n",
    "import ta\n",
    "\n",
    "sns.set(style='whitegrid')"
   ]
  },
  {
   "cell_type": "code",
   "execution_count": null,
   "id": "c28842a4",
   "metadata": {},
   "outputs": [],
   "source": [
    "# Download S&P 500 index data via yfinance\n",
    "ticker = '^GSPC'  # S&P 500 index symbol\n",
    "start = '2018-01-01'\n",
    "end = '2023-12-31'\n",
    "\n",
    "df = yf.download(ticker, start=start, end=end, progress=False)\n",
    "df = df[['Open','High','Low','Close','Adj Close','Volume']]\n",
    "df.head()"
   ]
  },
  {
   "cell_type": "code",
   "execution_count": null,
   "id": "6e07197a",
   "metadata": {},
   "outputs": [],
   "source": [
    "plt.figure(figsize=(12,4))\n",
    "plt.plot(df.index, df['Adj Close'])\n",
    "plt.title('S&P 500 Adjusted Close')\n",
    "plt.ylabel('Price')\n",
    "plt.show()"
   ]
  },
  {
   "cell_type": "markdown",
   "id": "f974879e",
   "metadata": {},
   "source": [
    "## ARIMA / SARIMA Forecasting Examples\n",
    "\n",
    "We show short-horizon forecasts using ARIMA and SARIMA. These are illustrative — for production you should tune orders and validate with walk-forward."
   ]
  },
  {
   "cell_type": "code",
   "execution_count": null,
   "id": "78e49bea",
   "metadata": {},
   "outputs": [],
   "source": [
    "series = df['Adj Close'].asfreq('B')\n",
    "series = series.fillna(method='ffill')\n",
    "\n",
    "arima_order = (5,1,0)\n",
    "model_arima = ARIMA(series, order=arima_order)\n",
    "res_arima = model_arima.fit()\n",
    "print(res_arima.summary().tables[1])\n",
    "\n",
    "pred_arima = res_arima.get_forecast(steps=5).predicted_mean\n",
    "pred_arima"
   ]
  },
  {
   "cell_type": "code",
   "execution_count": null,
   "id": "10830194",
   "metadata": {},
   "outputs": [],
   "source": [
    "sarima_order = (1,1,1)\n",
    "seasonal_order = (1,0,1,5)\n",
    "model_sarima = SARIMAX(series, order=sarima_order, seasonal_order=seasonal_order, enforce_stationarity=False, enforce_invertibility=False)\n",
    "res_sarima = model_sarima.fit(disp=False)\n",
    "print(res_sarima.summary().tables[1])\n",
    "res_sarima.get_forecast(steps=5).predicted_mean"
   ]
  },
  {
   "cell_type": "markdown",
   "id": "3e148e17",
   "metadata": {},
   "source": [
    "## Feature engineering: RSI, ADX, Directional Metric\n",
    "\n",
    "We compute technical indicators (RSI, ADX) using the `ta` library, create returns and a directional label (next-day direction)."
   ]
  },
  {
   "cell_type": "code",
   "execution_count": null,
   "id": "5a80d509",
   "metadata": {},
   "outputs": [],
   "source": [
    "feature_df = df.copy()\n",
    "feature_df = feature_df.dropna()\n",
    "\n",
    "# RSI (14)\n",
    "feature_df['rsi_14'] = ta.momentum.RSIIndicator(feature_df['Adj Close'], window=14).rsi()\n",
    "# ADX (14)\n",
    "feature_df['adx_14'] = ta.trend.ADXIndicator(feature_df['High'], feature_df['Low'], feature_df['Adj Close'], window=14).adx()\n",
    "\n",
    "feature_df['ret'] = feature_df['Adj Close'].pct_change()\n",
    "feature_df['ret_next'] = feature_df['Adj Close'].pct_change().shift(-1)\n",
    "feature_df['direction'] = (feature_df['ret_next'] > 0).astype(int)\n",
    "\n",
    "feature_df = feature_df.dropna()\n",
    "feature_df[['Adj Close','rsi_14','adx_14','ret','direction']].tail()"
   ]
  },
  {
   "cell_type": "markdown",
   "id": "e1addec6",
   "metadata": {},
   "source": [
    "## Systematic time-based segregation and supervised dataset\n",
    "\n",
    "We create lag features and split data chronologically into train / validation / test sets to avoid lookahead bias."
   ]
  },
  {
   "cell_type": "code",
   "execution_count": null,
   "id": "23865d40",
   "metadata": {},
   "outputs": [],
   "source": [
    "lags = [1,2,3,5,10]\n",
    "for l in lags:\n",
    "    feature_df[f'ret_lag_{l}'] = feature_df['ret'].shift(l)\n",
    "feature_df = feature_df.dropna()\n",
    "\n",
    "features = ['rsi_14','adx_14'] + [f'ret_lag_{l}' for l in lags]\n",
    "X = feature_df[features]\n",
    "y = feature_df['direction']\n",
    "\n",
    "N = len(X)\n",
    "train_end = int(0.7 * N)\n",
    "val_end = train_end + int(0.15 * N)\n",
    "\n",
    "X_train, y_train = X.iloc[:train_end], y.iloc[:train_end]\n",
    "X_val, y_val = X.iloc[train_end:val_end], y.iloc[train_end:val_end]\n",
    "X_test, y_test = X.iloc[val_end:], y.iloc[val_end:]\n",
    "\n",
    "X_train.shape, X_val.shape, X_test.shape"
   ]
  },
  {
   "cell_type": "code",
   "execution_count": null,
   "id": "c4ca5658",
   "metadata": {},
   "outputs": [],
   "source": [
    "pipe = Pipeline([('scaler', StandardScaler()), ('clf', GaussianNB())])\n",
    "pipe.fit(X_train, y_train)\n",
    "\n",
    "for name, (X_, y_) in [('Validation', (X_val, y_val)), ('Test', (X_test, y_test))]:\n",
    "    ypred = pipe.predict(X_)\n",
    "    acc = accuracy_score(y_, ypred)\n",
    "    print(f\"{name} accuracy: {acc:.4f}\")\n",
    "    print(classification_report(y_, ypred))\n",
    "\n",
    "# Baseline: always predict up\n",
    "baseline_pred = np.ones_like(y_test)\n",
    "baseline_acc = accuracy_score(y_test, baseline_pred)\n",
    "print('Baseline (always up) acc on test:', baseline_acc)"
   ]
  },
  {
   "cell_type": "code",
   "execution_count": null,
   "id": "04670b9b",
   "metadata": {},
   "outputs": [],
   "source": [
    "ypred_test = pipe.predict(X_test)\n",
    "acc_model = accuracy_score(y_test, ypred_test)\n",
    "acc_baseline = baseline_acc\n",
    "improvement = (acc_model - acc_baseline) * 100\n",
    "print(f'Model acc: {acc_model:.4f}, Baseline acc: {acc_baseline:.4f}, Improvement: {improvement:.2f} percentage points')"
   ]
  },
  {
   "cell_type": "code",
   "execution_count": null,
   "id": "ab4281c6",
   "metadata": {},
   "outputs": [],
   "source": [
    "import joblib\n",
    "joblib.dump(pipe, 'gnb_direction_pipe.joblib')\n",
    "print('Saved pipeline to gnb_direction_pipe.joblib')"
   ]
  },
  {
   "cell_type": "markdown",
   "id": "9260eea5",
   "metadata": {},
   "source": [
    "## Notes and next steps\n",
    "\n",
    "- Tune ARIMA/SARIMA orders using AIC/BIC or grid search and validate with walk-forward. \n",
    "- Try more powerful classifiers (RandomForest, XGBoost) and sequence models (LSTM, Transformer) for direction prediction.\n",
    "- Consider adding more features (volume-based indicators, macro signals).\n",
    "- Be careful with lookahead bias; always split chronologically.\n",
    "\n",
    "---\n",
    "\n",
    "**End of notebook**"
   ]
  }
 ],
 "metadata": {},
 "nbformat": 4,
 "nbformat_minor": 5
}
